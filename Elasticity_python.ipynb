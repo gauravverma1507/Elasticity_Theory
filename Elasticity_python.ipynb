{
 "cells": [
  {
   "cell_type": "markdown",
   "id": "15377510",
   "metadata": {},
   "source": [
    "# ELASTICITY"
   ]
  },
  {
   "cell_type": "markdown",
   "id": "9153138c",
   "metadata": {},
   "source": [
    "# Theory\n",
    "\n",
    "“How sensitive is Sales Demand, if product price changes?” “How much my sales will increase, if I lower my price?”"
   ]
  },
  {
   "cell_type": "markdown",
   "id": "f40a7b05",
   "metadata": {},
   "source": [
    "## let's Understand the Theory Behind the Elasticity \n"
   ]
  },
  {
   "cell_type": "markdown",
   "id": "a5c351d0",
   "metadata": {},
   "source": [
    "## There are 3 types of elasticity :\n",
    "    1> Inelastic : When the price changes have no effect on the sales demand       ,\n",
    "    \n",
    "                    Elasticity Range : -1 to +1\n",
    "    \n",
    "    \n",
    "    2> Negative elasticity : price decrease our sales demand increase\n",
    "    \n",
    "         Generally speaking, demand will decrease when price increases, and demand will increase when price decreases.\n",
    "     \n",
    "         price and product are inversly proportional\n",
    "         \n",
    "         \n",
    "                     Elasticity Range : less than -1\n",
    "         \n",
    "         \n",
    "     \n",
    "    3> Positive elasticity : prices decrease, sales demand decreases. Or the opposite, when product prices increase, sales            demand increases.\n",
    "    \n",
    "    \n",
    "    price and product are proportional\n",
    "    \n",
    "    \n",
    "                    Elasticity Range : greater than +1"
   ]
  },
  {
   "cell_type": "markdown",
   "id": "78fb73ae",
   "metadata": {},
   "source": [
    "Price Elasticity of Demand : % change in quantity / % change in Price"
   ]
  },
  {
   "cell_type": "raw",
   "id": "1bf38794",
   "metadata": {},
   "source": [
    "Real life example :\n",
    "    \n",
    "    \n",
    "    \n",
    "    \n",
    "Apple Mac Book Pro with a negative price elasticity of -15.34, it is described as follows:\n",
    "\n",
    "A 10% price decrease in Apple MacBook Pro-13, it increases sales demand by 153.5% \n",
    "\n",
    "or \n",
    "\n",
    "A 10% price increase in Apple MacBook Pro-13, it decreases sales demand by 153.5%    "
   ]
  },
  {
   "cell_type": "markdown",
   "id": "718001e5",
   "metadata": {},
   "source": [
    "# Now you got it! , \n",
    "\n",
    "you can analyze and observe how sensitive it is the consumer sales demand of different products towards price changes in a sole marketplace."
   ]
  },
  {
   "cell_type": "code",
   "execution_count": null,
   "id": "8f50da24",
   "metadata": {},
   "outputs": [],
   "source": []
  }
 ],
 "metadata": {
  "kernelspec": {
   "display_name": "Python 3",
   "language": "python",
   "name": "python3"
  },
  "language_info": {
   "codemirror_mode": {
    "name": "ipython",
    "version": 3
   },
   "file_extension": ".py",
   "mimetype": "text/x-python",
   "name": "python",
   "nbconvert_exporter": "python",
   "pygments_lexer": "ipython3",
   "version": "3.8.8"
  }
 },
 "nbformat": 4,
 "nbformat_minor": 5
}
